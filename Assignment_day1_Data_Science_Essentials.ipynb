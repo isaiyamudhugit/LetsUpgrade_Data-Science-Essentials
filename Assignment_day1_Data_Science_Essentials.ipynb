{
  "nbformat": 4,
  "nbformat_minor": 0,
  "metadata": {
    "colab": {
      "name": "assignment day1 Data Science Essentials.ipynb",
      "provenance": [],
      "collapsed_sections": []
    },
    "kernelspec": {
      "name": "python3",
      "display_name": "Python 3"
    }
  },
  "cells": [
    {
      "cell_type": "markdown",
      "metadata": {
        "id": "0BFPqyXOpezO"
      },
      "source": [
        "Question 1\n",
        "Given the following jumbled word, OBANWRI guess the correct English word.\n",
        "\n",
        "A. RANIBOW B. RAINBOW C. BOWRANI D. ROBWANI\n",
        "\n",
        "Answer : B.RAINBOW"
      ]
    },
    {
      "cell_type": "code",
      "metadata": {
        "id": "_nA9mfHdl9Vz",
        "outputId": "13c604fc-d269-4d6a-c127-75a8464e5f14",
        "colab": {
          "base_uri": "https://localhost:8080/"
        }
      },
      "source": [
        "#Questions 2:\n",
        "\n",
        "#Write a program which prints “LETS UPGRADE”. (Please note that you have to print in ALL CAPS as given)\n",
        "\n",
        "txt = 'Lets Upgrade'\n",
        "print(txt.upper())"
      ],
      "execution_count": 5,
      "outputs": [
        {
          "output_type": "stream",
          "text": [
            "LETS UPGRADE\n"
          ],
          "name": "stdout"
        }
      ]
    },
    {
      "cell_type": "code",
      "metadata": {
        "id": "X83vEI0OmVem",
        "outputId": "8bb95aad-09ad-48c3-a5f2-7d8fd6996317",
        "colab": {
          "base_uri": "https://localhost:8080/"
        }
      },
      "source": [
        "#Questions 3:\n",
        "#Write a program that takes cost price and selling price as input and displays whether the transaction\n",
        "# is a Profit or a Loss or Neither.INPUT FORMAT The first line contains the cost price. The second line \n",
        "# contains the selling price. OUTPUT FORMAT Print \"Profit\" if the transaction is a profit or \"Loss\" \n",
        "# if it is a loss. If it is neither profit nor loss, print \"Neither\". (You must not have quotes in your output)\n",
        "#NOTE: Please stick to the input and output format. Don't add anything extra like 'Enter cost price', \n",
        "#'Enter selling price', etc.\n",
        "\n",
        "costprice  = int(input())\n",
        "sellingprice = int(input())\n",
        "\n",
        "if costprice < sellingprice:\n",
        "  print(\"Profit\")\n",
        "elif costprice > sellingprice:\n",
        "  print(\"Loss\")\n",
        "else: \n",
        "  print(\"Neither\")\n",
        "\n"
      ],
      "execution_count": 8,
      "outputs": [
        {
          "output_type": "stream",
          "text": [
            "10000\n",
            "52000\n",
            "Profit\n"
          ],
          "name": "stdout"
        }
      ]
    },
    {
      "cell_type": "code",
      "metadata": {
        "id": "2hQ8CaPtpD55",
        "outputId": "d8061200-741a-4e1e-d9fd-5836c0363620",
        "colab": {
          "base_uri": "https://localhost:8080/"
        }
      },
      "source": [
        "#Questions 4:\n",
        "\n",
        "#Write a program that takes an amount in Euros as input. You need to find its equivalent in\n",
        "#Rupees and display it. Assume 1 Euro equals Rs. 80.\n",
        "#Please note that you are expected to stick to the given input and output\n",
        "#format as in sample test cases. Please don't add any extra lines such as\n",
        "#'Enter a number', etc.\n",
        "#Your program should take only one number as input and display the output.\n",
        "\n",
        "euro = int(input(\"Euro:\"))\n",
        "\n",
        "rupee = euro*80\n",
        "\n",
        "print(rupee,\"Rupees\")\n"
      ],
      "execution_count": 10,
      "outputs": [
        {
          "output_type": "stream",
          "text": [
            "Euro:67\n",
            "5360 Rupees\n"
          ],
          "name": "stdout"
        }
      ]
    },
    {
      "cell_type": "code",
      "metadata": {
        "id": "6Xf-n7idqPgr"
      },
      "source": [
        ""
      ],
      "execution_count": null,
      "outputs": []
    }
  ]
}