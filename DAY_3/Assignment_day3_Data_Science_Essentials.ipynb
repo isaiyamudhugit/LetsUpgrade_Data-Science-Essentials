{
  "nbformat": 4,
  "nbformat_minor": 0,
  "metadata": {
    "colab": {
      "name": "Assignment day3 Data Science Essentials.ipynb",
      "provenance": [],
      "collapsed_sections": []
    },
    "kernelspec": {
      "name": "python3",
      "display_name": "Python 3"
    }
  },
  "cells": [
    {
      "cell_type": "code",
      "metadata": {
        "id": "xSvBFDQJt71P"
      },
      "source": [
        "import numpy as np"
      ],
      "execution_count": null,
      "outputs": []
    },
    {
      "cell_type": "code",
      "metadata": {
        "id": "UuqdQ1m6u-jv",
        "outputId": "9c982973-8d00-4d6e-ddd4-a784ee181eba",
        "colab": {
          "base_uri": "https://localhost:8080/"
        }
      },
      "source": [
        "#Questions 1:\n",
        "#Create a numpy array starting from 2 till 50 with a stepsize of 3.\n",
        "arr = np.arange(2,50,3)\n",
        "arr"
      ],
      "execution_count": null,
      "outputs": [
        {
          "output_type": "execute_result",
          "data": {
            "text/plain": [
              "array([ 2,  5,  8, 11, 14, 17, 20, 23, 26, 29, 32, 35, 38, 41, 44, 47])"
            ]
          },
          "metadata": {
            "tags": []
          },
          "execution_count": 4
        }
      ]
    },
    {
      "cell_type": "code",
      "metadata": {
        "id": "w0wjOBxhuw6v",
        "outputId": "7c9c6e77-8e93-49d3-949c-d00327713667",
        "colab": {
          "base_uri": "https://localhost:8080/"
        }
      },
      "source": [
        "#Questions 2:\n",
        "#Accept two lists of 5 elements each from the user.\n",
        "#Convert them to numpy arrays. Concatenate these arrays and print it. Also sort these arrays and print it.\n",
        "\n",
        "lst1 = [] \n",
        "lst2 = [] \n",
        "\n",
        "n = 5 \n",
        "print(\"Enter 5 elements:\")\n",
        "for i in range(0, n): \n",
        "  ele = int(input()) \n",
        "  lst1.append(ele)\n",
        "print(\"List 1 :\", lst1) \n",
        "\n",
        "print(\"Enter 5 elements:\")\n",
        "for i in range(0, n): \n",
        "  ele = int(input()) \n",
        "  lst2.append(ele)\n",
        "print(\"List 2:\",lst2)   \n",
        "\n",
        "arr1 = np.array(lst1)\n",
        "arr2 = np.array(lst2)\n",
        "\n",
        "arr3 = np.concatenate((arr1,arr2))\n",
        "print(\"Concatenate Array\",arr3)\n",
        "\n",
        "print(\"Sorted Array\",np.sort(arr3))\n",
        "\n",
        "\n",
        "\n"
      ],
      "execution_count": null,
      "outputs": [
        {
          "output_type": "stream",
          "text": [
            "Enter 5 elements:\n",
            "6\n",
            "9\n",
            "78\n",
            "25\n",
            "11\n",
            "List 1 : [6, 9, 78, 25, 11]\n",
            "Enter 5 elements:\n",
            "56\n",
            "89\n",
            "4\n",
            "0\n",
            "30\n",
            "List 2: [56, 89, 4, 0, 30]\n",
            "Concatenate Array [ 6  9 78 25 11 56 89  4  0 30]\n",
            "Sorted Array [ 0  4  6  9 11 25 30 56 78 89]\n"
          ],
          "name": "stdout"
        }
      ]
    },
    {
      "cell_type": "code",
      "metadata": {
        "id": "C0gXtfuLw5o-",
        "outputId": "19a89adf-e7a8-458e-c939-f71e2d34e38f",
        "colab": {
          "base_uri": "https://localhost:8080/"
        }
      },
      "source": [
        "#Questions 3:\n",
        "#Write a code snippet to find the dimensions of a ndarray and its size.\n",
        "def dimofarr(a):\n",
        "  return a.ndim\n",
        "def sizeofarr(a):\n",
        "  return a.size\n",
        "\n",
        "ndarr = np.arange(24).reshape((2, 3, 4))\n",
        "\n",
        "print('numpy array:',ndarr)\n",
        "print('dimensions of a array: ',dimofarr(ndarr))\n",
        "print('size of the array:',sizeofarr(ndarr))"
      ],
      "execution_count": null,
      "outputs": [
        {
          "output_type": "stream",
          "text": [
            "numpy array: [[[ 0  1  2  3]\n",
            "  [ 4  5  6  7]\n",
            "  [ 8  9 10 11]]\n",
            "\n",
            " [[12 13 14 15]\n",
            "  [16 17 18 19]\n",
            "  [20 21 22 23]]]\n",
            "dimensions of a array:  3\n",
            "size of the array: 24\n"
          ],
          "name": "stdout"
        }
      ]
    },
    {
      "cell_type": "code",
      "metadata": {
        "id": "j21JTnVCoRKq",
        "outputId": "53176e8f-8b7e-4355-a28f-96311b58fde4",
        "colab": {
          "base_uri": "https://localhost:8080/"
        }
      },
      "source": [
        "#Questions 4:\n",
        "#How to convert a 1D array into a 2D array? Demonstrate with the help of a code snippet\n",
        "#Hint: np.newaxis, np.expand_dims\n",
        "def arrayconvert(a):\n",
        "  return  a[np.newaxis,]\n",
        "\n",
        "arr1 = np.arange(50)\n",
        "print('1D Array:',arr1)\n",
        "print(arr1.shape)\n",
        "arr2 = arrayconvert(arr1)\n",
        "print('2D Converted Array:',arr2)\n",
        "print(arr2.shape)\n"
      ],
      "execution_count": 61,
      "outputs": [
        {
          "output_type": "stream",
          "text": [
            "1D Array: [ 0  1  2  3  4  5  6  7  8  9 10 11 12 13 14 15 16 17 18 19 20 21 22 23\n",
            " 24 25 26 27 28 29 30 31 32 33 34 35 36 37 38 39 40 41 42 43 44 45 46 47\n",
            " 48 49]\n",
            "(50,)\n",
            "2D Converted Array: [[ 0  1  2  3  4  5  6  7  8  9 10 11 12 13 14 15 16 17 18 19 20 21 22 23\n",
            "  24 25 26 27 28 29 30 31 32 33 34 35 36 37 38 39 40 41 42 43 44 45 46 47\n",
            "  48 49]]\n",
            "(1, 50)\n"
          ],
          "name": "stdout"
        }
      ]
    },
    {
      "cell_type": "code",
      "metadata": {
        "id": "hNhfCEoRDLdx",
        "outputId": "bd3b2bdf-9ff5-42af-9a62-9f6760ffdb53",
        "colab": {
          "base_uri": "https://localhost:8080/"
        }
      },
      "source": [
        "#Questions 5:\n",
        "#Consider two square numpy arrays. Stack them vertically and horizontally.\n",
        "#Hint: Use vstack(), hstack()\n",
        "\n",
        "a = np.arange(0,25).reshape(5,5)\n",
        "b = np.arange(25,50).reshape(5,5)\n",
        "\n",
        "print(\"Vertical stacking:\\n\", np.vstack((a, b))) \n",
        "print(\"\\nHorizontal stacking:\\n\", np.hstack((a, b)))\n"
      ],
      "execution_count": 67,
      "outputs": [
        {
          "output_type": "stream",
          "text": [
            "Vertical stacking:\n",
            " [[ 0  1  2  3  4]\n",
            " [ 5  6  7  8  9]\n",
            " [10 11 12 13 14]\n",
            " [15 16 17 18 19]\n",
            " [20 21 22 23 24]\n",
            " [25 26 27 28 29]\n",
            " [30 31 32 33 34]\n",
            " [35 36 37 38 39]\n",
            " [40 41 42 43 44]\n",
            " [45 46 47 48 49]]\n",
            "\n",
            "Horizontal stacking:\n",
            " [[ 0  1  2  3  4 25 26 27 28 29]\n",
            " [ 5  6  7  8  9 30 31 32 33 34]\n",
            " [10 11 12 13 14 35 36 37 38 39]\n",
            " [15 16 17 18 19 40 41 42 43 44]\n",
            " [20 21 22 23 24 45 46 47 48 49]]\n"
          ],
          "name": "stdout"
        }
      ]
    },
    {
      "cell_type": "code",
      "metadata": {
        "id": "UCubE2AJDt9b",
        "outputId": "ed00647a-cd6a-4e71-8ae9-518c3e5d9adb",
        "colab": {
          "base_uri": "https://localhost:8080/"
        }
      },
      "source": [
        "#Questions 6:\n",
        "#How to get unique items and counts of unique items?\n",
        "\n",
        "a = [1, 2, 2, 4, 3, 6, 8, 6, 4, 8, 121,33,11,8,9,7,5,62,32,1,2] \n",
        "print('list with duplicate values/items:',a)  \n",
        "print('count of all items with duplicates:',np.size(a))\n",
        "uni = np.unique(a) \n",
        "print('Unique Items:',uni)\n",
        "print('count of total unique items:',uni.size)\n",
        "\n"
      ],
      "execution_count": 76,
      "outputs": [
        {
          "output_type": "stream",
          "text": [
            "list with duplicate values/items: [1, 2, 2, 4, 3, 6, 8, 6, 4, 8, 121, 33, 11, 8, 9, 7, 5, 62, 32, 1, 2]\n",
            "count of all items with duplicates: 21\n",
            "Unique Items: [  1   2   3   4   5   6   7   8   9  11  32  33  62 121]\n",
            "count of total unique items: 14\n"
          ],
          "name": "stdout"
        }
      ]
    },
    {
      "cell_type": "code",
      "metadata": {
        "id": "yaMxCn6JFDMh"
      },
      "source": [
        ""
      ],
      "execution_count": null,
      "outputs": []
    }
  ]
}