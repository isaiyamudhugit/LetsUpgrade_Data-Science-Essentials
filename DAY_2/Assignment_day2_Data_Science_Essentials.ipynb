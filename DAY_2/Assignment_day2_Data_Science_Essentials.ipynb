{
  "nbformat": 4,
  "nbformat_minor": 0,
  "metadata": {
    "colab": {
      "name": "Assignment day2 Data Science Essentials.ipynb",
      "provenance": [],
      "collapsed_sections": []
    },
    "kernelspec": {
      "name": "python3",
      "display_name": "Python 3"
    }
  },
  "cells": [
    {
      "cell_type": "code",
      "metadata": {
        "id": "rLcPC2PzrFHo",
        "outputId": "8d2f991e-494e-42b3-bc83-4ccdcf78c658",
        "colab": {
          "base_uri": "https://localhost:8080/"
        }
      },
      "source": [
        "#Questions 1:\n",
        "#Create an empty list. Accept 10 numbers from the user and append to it the list if it is an even number.\n",
        "\n",
        "list1 = []\n",
        "\n",
        "for i in range(10):\n",
        "  inputno = int(input())\n",
        "  if(inputno%2 == 0):\n",
        "    list1.append(inputno)\n",
        "\n",
        "print(list1)"
      ],
      "execution_count": 4,
      "outputs": [
        {
          "output_type": "stream",
          "text": [
            "22\n",
            "3\n",
            "62\n",
            "70\n",
            "96\n",
            "45\n",
            "76\n",
            "31\n",
            "99\n",
            "100\n",
            "[22, 62, 70, 96, 76, 100]\n"
          ],
          "name": "stdout"
        }
      ]
    },
    {
      "cell_type": "code",
      "metadata": {
        "id": "T-PbXMJutKWG"
      },
      "source": [
        "#Questions 2:\n",
        "#Create a notebook on LIST COMPREHENSION. This exercise is to put you in a Self learning mode\n"
      ],
      "execution_count": null,
      "outputs": []
    },
    {
      "cell_type": "markdown",
      "metadata": {
        "id": "F4bgIynTXdpE"
      },
      "source": [
        "# Syntax of List Comprehension\n",
        "      [expression for item in list]\n",
        "\n",
        "#### # List comprehension is an elegant way to define and create lists based on existing lists.\n",
        "#### # List comprehension is generally more compact and faster than normal functions and loops for creating list.\n",
        "#### # However, we should avoid writing very long list comprehensions in one line to ensure that code is user-friendly.\n",
        "#### # Remember, every list comprehension can be rewritten in for loop, but every for loop can’t be rewritten in the form of list comprehension.      \n"
      ]
    },
    {
      "cell_type": "code",
      "metadata": {
        "id": "hTFZGej1XxYG",
        "outputId": "6bc374a3-7e77-499c-95cf-b9207a563b5e",
        "colab": {
          "base_uri": "https://localhost:8080/"
        }
      },
      "source": [
        "h_letters = [ letter for letter in 'letsupgrade' ]\n",
        "print( h_letters)"
      ],
      "execution_count": 6,
      "outputs": [
        {
          "output_type": "stream",
          "text": [
            "['l', 'e', 't', 's', 'u', 'p', 'g', 'r', 'a', 'd', 'e']\n"
          ],
          "name": "stdout"
        }
      ]
    },
    {
      "cell_type": "code",
      "metadata": {
        "id": "IZz4_sk2u_sw",
        "outputId": "b2612f55-2738-47ea-dc0c-b4a5fab124be",
        "colab": {
          "base_uri": "https://localhost:8080/"
        }
      },
      "source": [
        "#Questions 3:\n",
        "#You have seen in the videos how powerful dictionary data structure is.\n",
        "#In this assignment, given a number n, you have to write a program that generates a dictionary d which\n",
        "#contains (i, i*i), where i is from 1 to n (both included).\n",
        "#Then you have to just print this dictionary d.\n",
        "#Example:\n",
        "#Input: 4\n",
        "#will give output as\n",
        "#{1: 1, 2: 4, 3: 9, 4: 16}\n",
        "#Input Format:\n",
        "#Take the number n in a single line.\n",
        "#Output Format:\n",
        "#Print the dictionary d in a single line.\n",
        "\n",
        "n = int(input())\n",
        "\n",
        "d = dict()\n",
        "\n",
        "for i in range(1,n+1):\n",
        "  d[i] = i*i\n",
        "\n",
        "print(d) \n",
        "   \n"
      ],
      "execution_count": 6,
      "outputs": [
        {
          "output_type": "stream",
          "text": [
            "9\n",
            "{1: 1, 2: 4, 3: 9, 4: 16, 5: 25, 6: 36, 7: 49, 8: 64, 9: 81}\n"
          ],
          "name": "stdout"
        }
      ]
    },
    {
      "cell_type": "markdown",
      "metadata": {
        "id": "FAj1DLQzygyg"
      },
      "source": [
        "Questions 4:\n",
        "\n",
        "There is a robot which wants to go the charging point to charge itself.\n",
        "The robot moves in a 2-D plane from the original point (0,0). \n",
        "The robot can\n",
        "move toward UP, DOWN, LEFT and RIGHT with given steps.\n",
        "The trace of robot movement is shown as the following:\n",
        "UP 5\n",
        "DOWN 3\n",
        "LEFT 3\n",
        "RIGHT 2\n",
        "\n",
        "Then, the output of the program should be:\n",
        "2\n",
        "\n",
        "The numbers after the direction are steps.\n",
        "Write a program to compute the distance between the current position after\n",
        "a sequence of movement and original point. If the distance is a float, then\n",
        "just print the nearest integer (use round() function for that and then convert\n",
        "it into an integer).\n",
        "\n",
        "Input Format:\n",
        "The first line of the input contains a number n which implies the number of\n",
        "directions to be given.\n",
        "The next n lines contain the direction and the step separated by a space.\n",
        "\n",
        "Output Format:\n",
        "Print the distance from the original position to the current position.\n"
      ]
    },
    {
      "cell_type": "code",
      "metadata": {
        "id": "iopKaizoyvIM",
        "outputId": "786b713e-d61a-4a82-cf75-9afe73054b6a",
        "colab": {
          "base_uri": "https://localhost:8080/"
        }
      },
      "source": [
        "import math\n",
        "\n",
        "pos_x = 0\n",
        "pos_y = 0\n",
        "\n",
        "move = [5,3,3,2]\n",
        "\n",
        "pos_y += int(move[0])    \n",
        "\n",
        "pos_y -= int(move[1])\n",
        "\n",
        "pos_x -= int(move[2])\n",
        "\n",
        "pos_x += int(move[3])\n",
        "\n",
        "print(round(math.sqrt(pos_x**2 + pos_y**2)))\n"
      ],
      "execution_count": 35,
      "outputs": [
        {
          "output_type": "stream",
          "text": [
            "2\n"
          ],
          "name": "stdout"
        }
      ]
    }
  ]
}